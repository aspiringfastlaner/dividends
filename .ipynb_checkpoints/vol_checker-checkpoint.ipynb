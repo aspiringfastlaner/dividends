{
 "cells": [
  {
   "cell_type": "code",
   "execution_count": 10,
   "metadata": {},
   "outputs": [
    {
     "name": "stderr",
     "output_type": "stream",
     "text": [
      "C:\\Users\\Fang\\Anaconda3\\lib\\site-packages\\ipykernel_launcher.py:53: DeprecationWarning: \n",
      ".ix is deprecated. Please use\n",
      ".loc for label based indexing or\n",
      ".iloc for positional indexing\n",
      "\n",
      "See the documentation here:\n",
      "http://pandas.pydata.org/pandas-docs/stable/indexing.html#deprecate_ix\n"
     ]
    }
   ],
   "source": [
    "#%% Importing modules and data\n",
    "import smtplib\n",
    "import pandas as pd\n",
    "import numpy as np\n",
    "import datetime as dt\n",
    "import pandas.stats.moments as st\n",
    "from pandas import ExcelWriter\n",
    "import matplotlib.pyplot as plt\n",
    "import os\n",
    "import quandl as qd\n",
    "import seaborn as sns\n",
    "import matplotlib.dates as dates\n",
    "import matplotlib.ticker as ticker\n",
    "from pandas_datareader import data\n",
    "\n",
    "%matplotlib inline\n",
    "\n",
    "def save_xls(list_dfs, xls_path,sheet_names):\n",
    "    writer = ExcelWriter(xls_path)\n",
    "    for n, df in enumerate(list_dfs):\n",
    "        df.to_excel(writer, sheet_names[n])\n",
    "    writer.save()\n",
    "    return\n",
    "\n",
    "# Define the instruments to download. We would like to see Apple, Microsoft and the S&P500 index.\n",
    "# Use site: http://optionsforum.net/topic/268/50-stocks-with-most-liquid-options\n",
    "'''\n",
    "tickers = ['ABT', 'ABBV', 'PNR', 'CL', 'HRL', 'CLX', 'LOW', 'PG', 'BCR', 'PEP', 'CTAS',\n",
    "          'XOM', 'EMR', 'PPG', 'GWW', 'ADM', 'TGT', 'AFL', 'ED', 'MMM', 'SHW', 'CVX',\n",
    "          'WBA', 'SPGI', 'JNJ', 'DOV', 'KO', 'SWK', 'CAH', 'MCD', 'APD', 'FRT', 'VFC',\n",
    "          'KMB', 'WMT', 'BDX', 'GPC', 'ADP', 'LEG', 'TROW', 'ECL', 'CINF', 'MDT', 'MKC',\n",
    "          'ITW', 'BEN', 'NUE', 'SYY', 'T', 'GD']\n",
    "'''\n",
    "tickers = ['BAC','DAL','C','JPM','WFC']\n",
    "\n",
    "# Define which online source one should use\n",
    "data_source = 'google'\n",
    "\n",
    "# We would like all available data from 01/01/2000 until 12/31/2016.\n",
    "start_date = '2007-01-01'\n",
    "end_date = '2017-09-29'\n",
    "\n",
    "start = dt.datetime(2007, 1, 1)\n",
    "end = dt.datetime.today()\n",
    "\n",
    "# User pandas_reader.data.DataReader to load the desired data. As simple as that.\n",
    "panel_data = data.DataReader(tickers, data_source, start_date, end_date)\n",
    "\n",
    "# panel_data.minor_xs('SPY')\n",
    "\n",
    "# Getting just the adjusted closing prices. This will return a Pandas DataFrame\n",
    "# The index in this DataFrame is the major index of the panel_data.\n",
    "close = panel_data.ix['Close']\n",
    "\n",
    "# Getting all weekdays between start_date and end_date\n",
    "#all_weekdays = pd.date_range(start=start_date, end=end_date, freq='B')\n",
    "\n",
    "# How do we align the existing prices in adj_close with our new set of dates?\n",
    "# All we need to do is reindex close using all_weekdays as the new index\n",
    "#close = close.reindex(all_weekdays)\n"
   ]
  },
  {
   "cell_type": "code",
   "execution_count": 6,
   "metadata": {
    "collapsed": true
   },
   "outputs": [],
   "source": [
    "# Function for calculating standard dev and price moves in terms of standard dev\n",
    "# DF[[Adj Close]] Rolling Period --> DF[['Daily Vol','Daily Price Vol','Price Dev','Annual Vol']]\n",
    "def price_devs(close_prices,roll_period,plot_window, hist_window):\n",
    "    df = close_prices.copy()\n",
    "    df.columns = ['prices']\n",
    "    df['prices_delta'] = df.prices - df.prices.shift(1)\n",
    "    df['log_returns'] = np.log(df.prices) - np.log(df.prices.shift(1))\n",
    "    df['daily_vol'] = st.rolling_std(df.log_returns, roll_period, ddof = 1)\n",
    "    df['daily_vol_dollar'] = df.daily_vol*df.prices\n",
    "    df['price_dev'] = df.prices_delta/df.daily_vol_dollar.shift(1)\n",
    "    df['annual_vol'] = df.daily_vol*np.sqrt(252)\n",
    "    \n",
    "    fig, axes = plt.subplots(nrows=2, ncols=2, figsize = (20,10))\n",
    "    \n",
    "    df['price_dev'].tail(plot_window).plot(kind = 'bar',ax=axes[0,0], rot=20)\n",
    "    \n",
    "    # Make most of the ticklabels empty so the labels don't get too crowded\n",
    "    ticklabels = ['']*len(df.tail(plot_window).index)\n",
    "    # Every ith ticklable shows the month and day\n",
    "    i = int(plot_window/6)\n",
    "    ticklabels[::i] = [item.strftime('%b %d %Y') for item in df.tail(plot_window).index[::i]]\n",
    "    # Every jth ticklabel includes the year\n",
    "    #j = i\n",
    "    #ticklabels[::j] = [item.strftime('%b %d\\n%Y') for item in df.tail(plot_window).index[::j]]\n",
    "    #axes[0,0].xaxis.set_major_formatter(ticker.FixedFormatter(ticklabels))\n",
    "    axes[0,0].set_xlabel('')\n",
    "    \n",
    "    df.tail(hist_window).price_dev.hist(bins = 20,ax=axes[0,1])\n",
    "    df.tail(hist_window)[df.price_dev < 0].price_dev.hist(bins = 10,ax=axes[1,0])\n",
    "    df.tail(hist_window)[df.price_dev >= 0].price_dev.hist(bins = 10,ax=axes[1,1])\n",
    "    \n",
    "    axes[0,0].set_title('Daily Price Deviations')\n",
    "    axes[0,1].set_title('Distribution of Price Deviations')\n",
    "    axes[1,0].set_title('Left-Side Distribution')\n",
    "    axes[1,1].set_title('Right-Side Distribution')\n",
    "    print(df.tail(5))\n",
    "    return df"
   ]
  },
  {
   "cell_type": "code",
   "execution_count": 7,
   "metadata": {
    "collapsed": true
   },
   "outputs": [],
   "source": [
    "def vol_summary(adj_c_df,rolling_period,lookback_window,hist_window):\n",
    "    etf = price_devs(adj_c_df,rolling_period,lookback_window,hist_window)\n",
    "    \n",
    "    # Describing Deviation Data\n",
    "    obs = hist_window\n",
    "\n",
    "    print(etf.price_dev.tail(obs).describe())#percentiles = list(np.arange(0.1,1,0.1))))\n",
    "    print('---------------------')\n",
    "    # Finding date of largest drop\n",
    "    print('Date of largest drop')\n",
    "    print(etf.price_dev.tail(obs).iloc[etf.price_dev.tail(obs).index.get_loc(etf.price_dev.tail(obs).idxmin())])\n",
    "    print(etf.price_dev.tail(obs).idxmin())\n",
    "    print('---------------------')\n",
    "    # Finding date of largest spike\n",
    "    print('Date of largest spike')\n",
    "    print(etf.price_dev.tail(obs).iloc[etf.price_dev.tail(obs).index.get_loc(etf.price_dev.tail(obs).idxmax())])\n",
    "    print(etf.price_dev.tail(obs).idxmax())\n",
    "    print('---------------------')\n",
    "    # Histogram Bins\n",
    "    d = {'Std Bins':np.histogram(etf.price_dev.tail(obs), 40, (-20,20))[1][:-1],\n",
    "        'Frequency':np.histogram(etf.price_dev.tail(obs), 40, (-20,20))[0]}\n",
    "    df = pd.DataFrame(d,index = d['Std Bins'])[['Frequency']]\n",
    "    print(df)\n",
    "    return df"
   ]
  },
  {
   "cell_type": "code",
   "execution_count": null,
   "metadata": {},
   "outputs": [
    {
     "name": "stderr",
     "output_type": "stream",
     "text": [
      "C:\\Users\\Fang\\Anaconda3\\lib\\site-packages\\ipykernel_launcher.py:8: FutureWarning: pd.rolling_std is deprecated for Series and will be removed in a future version, replace with \n",
      "\tSeries.rolling(window=3,center=False).std(ddof=1)\n",
      "  \n"
     ]
    },
    {
     "name": "stdout",
     "output_type": "stream",
     "text": [
      "            prices  prices_delta  log_returns  daily_vol  daily_vol_dollar  \\\n",
      "Date                                                                         \n",
      "2017-10-03   25.86          0.24     0.009324   0.008406          0.217381   \n",
      "2017-10-04   25.71         -0.15    -0.005817   0.009260          0.238076   \n",
      "2017-10-05   26.13          0.42     0.016204   0.011266          0.294381   \n",
      "2017-10-06   26.21          0.08     0.003057   0.011080          0.290396   \n",
      "2017-10-09   25.85         -0.36    -0.013830   0.015056          0.389198   \n",
      "\n",
      "            price_dev  annual_vol  \n",
      "Date                               \n",
      "2017-10-03   1.212311    0.133442  \n",
      "2017-10-04  -0.690032    0.146999  \n",
      "2017-10-05   1.764141    0.178843  \n",
      "2017-10-06   0.271757    0.175883  \n",
      "2017-10-09  -1.239688    0.239007  \n",
      "count    246.000000\n",
      "mean       0.040989\n",
      "std        2.467462\n",
      "min      -18.950857\n",
      "25%       -0.661161\n",
      "50%        0.029225\n",
      "75%        1.034001\n",
      "max       13.514503\n",
      "Name: price_dev, dtype: float64\n",
      "---------------------\n",
      "Date of largest drop\n",
      "-18.950856998\n",
      "2017-05-17 00:00:00\n",
      "---------------------\n",
      "Date of largest spike\n",
      "13.514503488\n",
      "2017-02-09 00:00:00\n",
      "---------------------\n",
      "       Frequency\n",
      "-20.0          0\n",
      "-19.0          1\n",
      "-18.0          0\n",
      "-17.0          0\n",
      "-16.0          0\n",
      "-15.0          0\n",
      "-14.0          0\n",
      "-13.0          0\n",
      "-12.0          1\n",
      "-11.0          0\n",
      "-10.0          0\n",
      "-9.0           1\n",
      "-8.0           0\n",
      "-7.0           2\n",
      "-6.0           3\n",
      "-5.0           1\n",
      "-4.0           7\n",
      "-3.0           3\n",
      "-2.0          20\n",
      "-1.0          79\n",
      " 0.0          65\n",
      " 1.0          35\n",
      " 2.0          15\n",
      " 3.0           5\n",
      " 4.0           6\n",
      " 5.0           0\n",
      " 6.0           1\n",
      " 7.0           0\n",
      " 8.0           0\n",
      " 9.0           0\n",
      " 10.0          0\n",
      " 11.0          0\n",
      " 12.0          0\n",
      " 13.0          1\n",
      " 14.0          0\n",
      " 15.0          0\n",
      " 16.0          0\n",
      " 17.0          0\n",
      " 18.0          0\n",
      " 19.0          0\n"
     ]
    },
    {
     "name": "stderr",
     "output_type": "stream",
     "text": [
      "C:\\Users\\Fang\\Anaconda3\\lib\\site-packages\\numpy\\lib\\function_base.py:747: RuntimeWarning: invalid value encountered in greater_equal\n",
      "  keep = (tmp_a >= mn)\n",
      "C:\\Users\\Fang\\Anaconda3\\lib\\site-packages\\numpy\\lib\\function_base.py:748: RuntimeWarning: invalid value encountered in less_equal\n",
      "  keep &= (tmp_a <= mx)\n"
     ]
    }
   ],
   "source": [
    "rolling_period = 3\n",
    "lookback_window = 500\n",
    "hist_window = 1000\n",
    "ticker = 'BAC'\n",
    "stock = vol_summary(close[[ticker]],rolling_period,lookback_window,hist_window)"
   ]
  },
  {
   "cell_type": "code",
   "execution_count": null,
   "metadata": {
    "collapsed": true
   },
   "outputs": [],
   "source": []
  },
  {
   "cell_type": "code",
   "execution_count": null,
   "metadata": {
    "collapsed": true
   },
   "outputs": [],
   "source": []
  },
  {
   "cell_type": "code",
   "execution_count": null,
   "metadata": {
    "collapsed": true
   },
   "outputs": [],
   "source": []
  }
 ],
 "metadata": {
  "kernelspec": {
   "display_name": "Python 3",
   "language": "python",
   "name": "python3"
  },
  "language_info": {
   "codemirror_mode": {
    "name": "ipython",
    "version": 3
   },
   "file_extension": ".py",
   "mimetype": "text/x-python",
   "name": "python",
   "nbconvert_exporter": "python",
   "pygments_lexer": "ipython3",
   "version": "3.6.1"
  }
 },
 "nbformat": 4,
 "nbformat_minor": 2
}
