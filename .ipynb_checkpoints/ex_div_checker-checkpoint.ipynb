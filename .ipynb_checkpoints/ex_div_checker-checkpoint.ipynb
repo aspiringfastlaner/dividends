{
 "cells": [
  {
   "cell_type": "code",
   "execution_count": 62,
   "metadata": {
    "collapsed": true
   },
   "outputs": [],
   "source": [
    "#%% Importing modules and data\n",
    "import smtplib\n",
    "import pandas as pd\n",
    "import numpy as np\n",
    "import datetime as dt\n",
    "import pandas.stats.moments as st\n",
    "from pandas import ExcelWriter\n",
    "import matplotlib.pyplot as plt\n",
    "import os\n",
    "import quandl\n",
    "import seaborn as sns\n",
    "import matplotlib.dates as dates\n",
    "import matplotlib.ticker as ticker\n",
    "import io\n",
    "from pandas_datareader import data\n",
    "\n",
    "%matplotlib inline\n",
    "\n",
    "def save_xls(list_dfs, xls_path,sheet_names):\n",
    "    writer = ExcelWriter(xls_path)\n",
    "    for n, df in enumerate(list_dfs):\n",
    "        df.to_excel(writer, sheet_names[n])\n",
    "    writer.save()\n",
    "    return\n",
    "\n"
   ]
  },
  {
   "cell_type": "code",
   "execution_count": 93,
   "metadata": {
    "collapsed": true
   },
   "outputs": [],
   "source": [
    "'''\n",
    "List of Quandl Div Stocks\n",
    "\n",
    "V DE PG KO GS WMT MRK VZ UTX TRV DIS\n",
    "BA HD MMM PFE NKE MCD JPM INTC GE CSCO\n",
    "CVX CAT AXP JNJ MSFT IBM AAPL\n",
    "'''\n",
    "def div_check(ticker, days_to_ex):\n",
    "    tick = 'EOD/' + ticker\n",
    "    df = quandl.get(tick, authtoken=\"-ZxrLoLy3vKgLtLraaMn\")[['Dividend','Adj_Close','Adj_Open']]\n",
    "    df['return'] = df['Adj_Close'].pct_change(days_to_ex - 1)\n",
    "    df = df[df['Dividend'] != 0]\n",
    "    df['return'].hist(bins = 20, figsize = (20,10))\n",
    "    return df"
   ]
  },
  {
   "cell_type": "code",
   "execution_count": null,
   "metadata": {},
   "outputs": [],
   "source": [
    "pg = div_check('PG', 17)"
   ]
  },
  {
   "cell_type": "code",
   "execution_count": null,
   "metadata": {},
   "outputs": [],
   "source": []
  },
  {
   "cell_type": "code",
   "execution_count": null,
   "metadata": {},
   "outputs": [],
   "source": []
  },
  {
   "cell_type": "code",
   "execution_count": null,
   "metadata": {},
   "outputs": [],
   "source": []
  },
  {
   "cell_type": "code",
   "execution_count": null,
   "metadata": {
    "collapsed": true
   },
   "outputs": [],
   "source": []
  }
 ],
 "metadata": {
  "kernelspec": {
   "display_name": "Python 3",
   "language": "python",
   "name": "python3"
  },
  "language_info": {
   "codemirror_mode": {
    "name": "ipython",
    "version": 3
   },
   "file_extension": ".py",
   "mimetype": "text/x-python",
   "name": "python",
   "nbconvert_exporter": "python",
   "pygments_lexer": "ipython3",
   "version": "3.6.1"
  }
 },
 "nbformat": 4,
 "nbformat_minor": 2
}
